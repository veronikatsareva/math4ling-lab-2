{
 "cells": [
  {
   "cell_type": "markdown",
   "metadata": {},
   "source": [
    "# Лабораторная работа №2\n",
    "\n",
    "Выполнила Вероника Царева, группа БКЛ223.\n",
    "\n",
    "При работе использовался python версии 3.8.4"
   ]
  },
  {
   "cell_type": "markdown",
   "metadata": {},
   "source": [
    "### Задание\n",
    "\n",
    "Необходимо написать программу, которая генерирует XML-представление дерева зависимостей предложения по его записи в формате CoNLL-U.\n",
    "\n",
    "**Комментарии к реализации**\n",
    "\n",
    "Работа кода проиллюстрирована на предложении «*Я очень люблю пить холодный кофе со льдом и карамельным сиропом по утрам, пока иду в университет к первой паре.*».\n",
    "\n",
    "Запись данного предложения в формате CoNLL-U была получена с помощью [онлайн-парсинга](https://lindat.mff.cuni.cz/services/udpipe/run.php) предложений в UDPipe для русского языка (доступен только с vpn, модель russian-syntagrus-ud-2.12-230717) и находится в файле ```example_sentence.conllu```.\n",
    "\n",
    "В xml-представлении дерева зависимостей будут отражены: токен слова (token), его часть речи (pos), название грамматического отношения слова к своей вершине (deprel).\n",
    "\n",
    "Если у слова есть зависимые, то он будет заключен в тэг ``` <head> </head> ```. Перед вершиной группы на том же уровне (отступе и строке) будет открываться тэг ``` <phrase> ```, а заканчиваться он будет после последнего зависимого вершины. Это нужно, чтобы можно было в дальнейшем удобно работать с этой структурой (см. Раздел «Примеры использования»).\n",
    "\n",
    "Если у слова нет зависимых, то он будет заключен в тэг ```<dependent> </dependent>```.\n",
    "\n",
    "Если вершина нулевая, то она будет заключена в тэг ```<root> </root>```.\n",
    "\n",
    "Отступ каждого уровня от предыдущего равен 4м пробелам."
   ]
  },
  {
   "cell_type": "markdown",
   "metadata": {},
   "source": [
    "### Реализация"
   ]
  },
  {
   "cell_type": "markdown",
   "metadata": {},
   "source": [
    "Импорт и установка необходимых модулей."
   ]
  },
  {
   "cell_type": "code",
   "execution_count": 1,
   "metadata": {},
   "outputs": [
    {
     "name": "stdout",
     "output_type": "stream",
     "text": [
      "Defaulting to user installation because normal site-packages is not writeable\n",
      "Requirement already satisfied: treelib in /Users/veronikatsareva/Library/Python/3.8/lib/python/site-packages (1.7.0)\n",
      "Requirement already satisfied: six in /Users/veronikatsareva/Library/Python/3.8/lib/python/site-packages (from treelib) (1.16.0)\n",
      "Note: you may need to restart the kernel to use updated packages.\n"
     ]
    }
   ],
   "source": [
    "%pip install treelib"
   ]
  },
  {
   "cell_type": "code",
   "execution_count": 2,
   "metadata": {},
   "outputs": [],
   "source": [
    "import typing\n",
    "from typing import Union\n",
    "from treelib import Tree\n"
   ]
  },
  {
   "cell_type": "markdown",
   "metadata": {},
   "source": [
    "Создание названий для использующихся типов в функциях."
   ]
  },
  {
   "cell_type": "code",
   "execution_count": 3,
   "metadata": {},
   "outputs": [],
   "source": [
    "Nodes = typing.Dict[\n",
    "    int, typing.List[Union[typing.Tuple[str, str, str], typing.List[int]]]\n",
    "]\n"
   ]
  },
  {
   "cell_type": "markdown",
   "metadata": {},
   "source": [
    "Функция для обработки предложения в формате ConLL-U."
   ]
  },
  {
   "cell_type": "code",
   "execution_count": 4,
   "metadata": {},
   "outputs": [],
   "source": [
    "def make_dependency_tree(filename: str) -> Nodes:\n",
    "    # разделяем файл по строкам, где строки -- информация о каждом слове\n",
    "    # в предложении\n",
    "    words = []\n",
    "    with open(filename) as file:\n",
    "        words = file.read().split(\"\\n\")\n",
    "\n",
    "    # делаем сплит каждой строки по табу, чтобы получить отдельные\n",
    "    # характеристики слова\n",
    "    word_data = [word.split(\"\\t\") for word in words]\n",
    "\n",
    "    # заводим словарь, где ключ -- номер токена, а значение это список из\n",
    "    # кортежа (токен, часть речи и грамматическое отношения) и\n",
    "    # списка (номеров детей)\n",
    "\n",
    "    # добавляем \"нулевую\" вершину, которая является корнем дерева\n",
    "    nodes = {}\n",
    "    nodes[0] = [(\"-\", \"root\", \"-\"), []]\n",
    "\n",
    "    # заполняем словарь номерами токенов и кортежами с информацией о токене\n",
    "    for i in range(len(word_data)):\n",
    "        token, pos, deprel = word_data[i][1], word_data[i][3], word_data[i][7]\n",
    "        nodes[i + 1] = [(token, pos, deprel), []]\n",
    "\n",
    "    for i in range(len(word_data)):\n",
    "        # индекс родителя\n",
    "        parent_idx = int(word_data[i][6])\n",
    "        # добавляем номера детей в список своим родителям\n",
    "        nodes[parent_idx][1].append(i + 1)\n",
    "\n",
    "    return nodes\n"
   ]
  },
  {
   "cell_type": "markdown",
   "metadata": {},
   "source": [
    "Функция для генерации xml-представления дерева."
   ]
  },
  {
   "cell_type": "code",
   "execution_count": 5,
   "metadata": {},
   "outputs": [],
   "source": [
    "def xml_generator(filename: str, nodes: Nodes, idx: int, shift=0) -> None:\n",
    "    # токен\n",
    "    token = nodes[idx][0][0]\n",
    "\n",
    "    # часть речи\n",
    "    pos = nodes[idx][0][1]\n",
    "\n",
    "    # грамматическое отношение\n",
    "    deprel = nodes[idx][0][2]\n",
    "\n",
    "    # список детей\n",
    "    children = nodes[idx][1]\n",
    "\n",
    "    # если у токена есть зависимые, то он будет записываться в файл с тэгом\n",
    "    # <head> </head>\n",
    "    if len(children) != 0:\n",
    "        # для корневой вершины тэг будет <root> </root>\n",
    "        if pos == \"root\":\n",
    "            # открываем тэг\n",
    "            filename.write(f'{\" \"*shift}<root>\\n')\n",
    "\n",
    "            # делаем рекурсивный обход по всем детям\n",
    "            for child in children:\n",
    "                xml_generator(filename, nodes, child, shift + 4)\n",
    "\n",
    "            # закрываем тэг\n",
    "            filename.write(f'{\" \"*shift}</root>\\n')\n",
    "        else:\n",
    "            # открываем тэг c отступом shift и записываем атрибуты токена\n",
    "            # (часть речи и грамматическое отношение) и сам токен\n",
    "            filename.write(f'{\" \"*shift}<phrase> ')\n",
    "            filename.write(f'<head pos=\"{pos}\" deprel=\"{deprel}\">{token}</head>\\n')\n",
    "\n",
    "            # делаем рекурсивный обход по всем детям\n",
    "            for child in children:\n",
    "                xml_generator(filename, nodes, child, shift + 4)\n",
    "\n",
    "            # закрываем тэг\n",
    "            filename.write(f'{\" \"*shift}</phrase>\\n')\n",
    "    # без зависимых у токена будет тэг <dependent> </dependent>\n",
    "    else:\n",
    "        # открываем тэг c отступом shift и записываем атрибуты токена\n",
    "        # (часть речи и грамматическое отношение), сам токен и закрываем тэг\n",
    "        filename.write(\n",
    "            f'{\" \"*shift}<dependent pos=\"{pos}\" deprel=\"{deprel}\">{token}</dependent>\\n'\n",
    "        )\n"
   ]
  },
  {
   "cell_type": "code",
   "execution_count": 6,
   "metadata": {},
   "outputs": [],
   "source": [
    "# парсинг предложения в формате conllu\n",
    "dependency_tree = make_dependency_tree('example_sentence.conllu')\n"
   ]
  },
  {
   "cell_type": "code",
   "execution_count": 7,
   "metadata": {},
   "outputs": [],
   "source": [
    "# запись предложения в формале xml в файл\n",
    "with open('dependency_tree.xml', 'w') as file:\n",
    "    file.write('<?xml version=\"1.0\" encoding=\"UTF-8\"?>\\n')\n",
    "    xml_generator(file, dependency_tree, 0)\n"
   ]
  },
  {
   "cell_type": "code",
   "execution_count": 8,
   "metadata": {},
   "outputs": [
    {
     "name": "stdout",
     "output_type": "stream",
     "text": [
      "<?xml version=\"1.0\" encoding=\"UTF-8\"?>\n",
      " <root>\n",
      "     <phrase> <head pos=\"VERB\" deprel=\"root\">люблю</head>\n",
      "         <dependent pos=\"PRON\" deprel=\"nsubj\">Я</dependent>\n",
      "         <dependent pos=\"ADV\" deprel=\"advmod\">очень</dependent>\n",
      "         <phrase> <head pos=\"VERB\" deprel=\"xcomp\">пить</head>\n",
      "             <phrase> <head pos=\"NOUN\" deprel=\"obj\">кофе</head>\n",
      "                 <dependent pos=\"ADJ\" deprel=\"amod\">холодный</dependent>\n",
      "                 <phrase> <head pos=\"NOUN\" deprel=\"nmod\">льдом</head>\n",
      "                     <dependent pos=\"ADP\" deprel=\"case\">со</dependent>\n",
      "                     <phrase> <head pos=\"NOUN\" deprel=\"conj\">сиропом</head>\n",
      "                         <dependent pos=\"CCONJ\" deprel=\"cc\">и</dependent>\n",
      "                         <dependent pos=\"ADJ\" deprel=\"amod\">карамельным</dependent>\n",
      "                     </phrase>\n",
      "                 </phrase>\n",
      "             </phrase>\n",
      "             <phrase> <head pos=\"NOUN\" deprel=\"obl\">утрам</head>\n",
      "                 <dependent pos=\"ADP\" deprel=\"case\">по</dependent>\n",
      "             </phrase>\n",
      "         </phrase>\n",
      "         <phrase> <head pos=\"VERB\" deprel=\"advcl\">иду</head>\n",
      "             <dependent pos=\"PUNCT\" deprel=\"punct\">,</dependent>\n",
      "             <dependent pos=\"SCONJ\" deprel=\"mark\">пока</dependent>\n",
      "             <phrase> <head pos=\"NOUN\" deprel=\"obl\">университет</head>\n",
      "                 <dependent pos=\"ADP\" deprel=\"case\">в</dependent>\n",
      "             </phrase>\n",
      "             <phrase> <head pos=\"NOUN\" deprel=\"obl\">паре</head>\n",
      "                 <dependent pos=\"ADP\" deprel=\"case\">к</dependent>\n",
      "                 <dependent pos=\"ADJ\" deprel=\"amod\">первой</dependent>\n",
      "             </phrase>\n",
      "         </phrase>\n",
      "         <dependent pos=\"PUNCT\" deprel=\"punct\">.</dependent>\n",
      "     </phrase>\n",
      " </root>\n",
      "\n"
     ]
    }
   ],
   "source": [
    "# вывод дерева в формате xml\n",
    "with open('dependency_tree.xml', 'r') as file:\n",
    "    lines = file.readlines()\n",
    "    print(*lines)\n"
   ]
  },
  {
   "cell_type": "markdown",
   "metadata": {},
   "source": [
    "### Визуализация результата"
   ]
  },
  {
   "cell_type": "markdown",
   "metadata": {},
   "source": [
    "Функция для визуализации результатов."
   ]
  },
  {
   "cell_type": "code",
   "execution_count": 9,
   "metadata": {},
   "outputs": [],
   "source": [
    "def print_tree(tree: Tree, dependency_tree: Nodes, parent = 0) -> None:\n",
    "    # рекурсивно перебираем детей текущего родителя\n",
    "    for child in dependency_tree[parent][1]:\n",
    "        # создаем ярлык для листа\n",
    "        leaf = f\"{dependency_tree[child][0][0]}: {dependency_tree[child][0][1]}, {dependency_tree[child][0][2]}\"\n",
    "        \n",
    "        # добавляем вершину в дерево\n",
    "        tree.create_node(leaf, child, parent=parent)\n",
    "        \n",
    "        # запускаем рекурсию для детей текущего ребенка\n",
    "        print_tree(tree, dependency_tree, child)\n"
   ]
  },
  {
   "cell_type": "code",
   "execution_count": 10,
   "metadata": {},
   "outputs": [
    {
     "name": "stdout",
     "output_type": "stream",
     "text": [
      "root\n",
      "└── люблю: VERB, root\n",
      "    ├── .: PUNCT, punct\n",
      "    ├── Я: PRON, nsubj\n",
      "    ├── иду: VERB, advcl\n",
      "    │   ├── ,: PUNCT, punct\n",
      "    │   ├── паре: NOUN, obl\n",
      "    │   │   ├── к: ADP, case\n",
      "    │   │   └── первой: ADJ, amod\n",
      "    │   ├── пока: SCONJ, mark\n",
      "    │   └── университет: NOUN, obl\n",
      "    │       └── в: ADP, case\n",
      "    ├── очень: ADV, advmod\n",
      "    └── пить: VERB, xcomp\n",
      "        ├── кофе: NOUN, obj\n",
      "        │   ├── льдом: NOUN, nmod\n",
      "        │   │   ├── сиропом: NOUN, conj\n",
      "        │   │   │   ├── и: CCONJ, cc\n",
      "        │   │   │   └── карамельным: ADJ, amod\n",
      "        │   │   └── со: ADP, case\n",
      "        │   └── холодный: ADJ, amod\n",
      "        └── утрам: NOUN, obl\n",
      "            └── по: ADP, case\n",
      "\n"
     ]
    }
   ],
   "source": [
    "# создание объекта Tree\n",
    "tree = Tree()\n",
    "\n",
    "# добавляем корень\n",
    "tree.create_node(\"root\", 0)\n",
    "\n",
    "# вызов функции для добавления вершин в дерево\n",
    "print_tree(tree, dependency_tree, 0)\n",
    "\n",
    "# визуализация дерева\n",
    "print(tree)\n"
   ]
  },
  {
   "cell_type": "markdown",
   "metadata": {},
   "source": [
    "### Примеры использования дерева в формате xml"
   ]
  },
  {
   "cell_type": "markdown",
   "metadata": {},
   "source": [
    "Установка и импорт необходимых модулей."
   ]
  },
  {
   "cell_type": "code",
   "execution_count": 11,
   "metadata": {},
   "outputs": [],
   "source": [
    "from bs4 import BeautifulSoup\n"
   ]
  },
  {
   "cell_type": "markdown",
   "metadata": {},
   "source": [
    "С помощью такого представления дерева мы можем быстро находить все вершины групп в дереве."
   ]
  },
  {
   "cell_type": "code",
   "execution_count": 12,
   "metadata": {},
   "outputs": [],
   "source": [
    "# открытие файла на чтение\n",
    "with open('dependency_tree.xml', 'r') as file:\n",
    "    tree = file.read() \n",
    "\n",
    "# делаем суп из файла\n",
    "soup = BeautifulSoup(tree, 'xml')\n"
   ]
  },
  {
   "cell_type": "code",
   "execution_count": 13,
   "metadata": {},
   "outputs": [
    {
     "name": "stdout",
     "output_type": "stream",
     "text": [
      "люблю\n",
      "пить\n",
      "кофе\n",
      "льдом\n",
      "сиропом\n",
      "утрам\n",
      "иду\n",
      "университет\n",
      "паре\n"
     ]
    }
   ],
   "source": [
    "# ищем все вершины\n",
    "heads = soup.find_all(\"head\")\n",
    "\n",
    "for word in heads:\n",
    "    print(word.get_text())\n"
   ]
  },
  {
   "cell_type": "code",
   "execution_count": 14,
   "metadata": {},
   "outputs": [
    {
     "name": "stdout",
     "output_type": "stream",
     "text": [
      "кофе\n",
      "льдом\n",
      "сиропом\n",
      "утрам\n",
      "университет\n",
      "паре\n"
     ]
    }
   ],
   "source": [
    "# ищем все вершины-существительные\n",
    "\n",
    "noun_heads = soup.find_all(\"head\", pos=\"NOUN\")\n",
    "\n",
    "for word in noun_heads:\n",
    "    print(word.get_text())\n"
   ]
  },
  {
   "cell_type": "code",
   "execution_count": 15,
   "metadata": {},
   "outputs": [
    {
     "name": "stdout",
     "output_type": "stream",
     "text": [
      "холодный\n",
      "карамельным\n",
      "первой\n"
     ]
    }
   ],
   "source": [
    "# ищем все зависимые-прилагательные\n",
    "\n",
    "adj_dependet = soup.find_all(\"dependent\", pos=\"ADJ\")\n",
    "\n",
    "for word in adj_dependet:\n",
    "    print(word.get_text())\n"
   ]
  }
 ],
 "metadata": {
  "kernelspec": {
   "display_name": "Python 3",
   "language": "python",
   "name": "python3"
  },
  "language_info": {
   "codemirror_mode": {
    "name": "ipython",
    "version": 3
   },
   "file_extension": ".py",
   "mimetype": "text/x-python",
   "name": "python",
   "nbconvert_exporter": "python",
   "pygments_lexer": "ipython3",
   "version": "3.8.4rc1"
  }
 },
 "nbformat": 4,
 "nbformat_minor": 2
}
